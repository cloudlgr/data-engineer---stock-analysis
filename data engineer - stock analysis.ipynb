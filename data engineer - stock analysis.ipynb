{
 "cells": [
  {
   "cell_type": "markdown",
   "metadata": {
    "collapsed": true
   },
   "source": [
    "# Stock Price Data"
   ]
  },
  {
   "cell_type": "code",
   "execution_count": null,
   "metadata": {
    "collapsed": false
   },
   "outputs": [],
   "source": [
    "import concurrent.futures\n",
    "import os\n",
    "\n",
    "def read_file(filename):\n",
    "    with open(filename, 'r') as f:\n",
    "        data = f.read().strip()\n",
    "    key = filename.replace(\".csv\", \"\").replace(\"prices/\", \"\")\n",
    "    data = data.split(\"\\n\")\n",
    "    data = [d.split(\",\") for d in data]\n",
    "    return key, data\n",
    "\n",
    "results = []\n",
    "pool = concurrent.futures.ProcessPoolExecutor(max_workers=2)\n",
    "filenames = [\"prices/{}\".format(f) for f in os.listdir(\"prices\")]\n",
    "prices = pool.map(read_file, filenames)\n",
    "prices = list(prices)\n",
    "prices = dict(prices)\n",
    "prices"
   ]
  },
  {
   "cell_type": "markdown",
   "metadata": {
    "collapsed": true
   },
   "source": [
    "I chose to use a hash table, then a list, then another list. This is because it closely mirrors the existing structure of the data. It allows stock symbols to be easily looked up, and enables me to index values efficiently.\n",
    "\n"
   ]
  },
  {
   "cell_type": "markdown",
   "metadata": {
    "collapsed": true
   },
   "source": [
    "# Computing Aggregates"
   ]
  },
  {
   "cell_type": "code",
   "execution_count": null,
   "metadata": {
    "collapsed": true
   },
   "outputs": [],
   "source": [
    "from dateutil.parser import parse\n",
    "\n",
    "prices_columns = {}\n",
    "\n",
    "for k,v in prices.items():\n",
    "    price = v\n",
    "    headers = price[0]\n",
    "    price_columns = {}\n",
    "    for i, header in enumerate(headers):\n",
    "        values = [p[i] for p in price[1:]]\n",
    "        if i > 0:\n",
    "            values = [float(v) for v in values]\n",
    "        else:\n",
    "            values = [parse(v) for v in values]\n",
    "        price_columns[header] = values\n",
    "    prices_columns[k] = price_columns"
   ]
  },
  {
   "cell_type": "code",
   "execution_count": null,
   "metadata": {
    "collapsed": true
   },
   "outputs": [],
   "source": [
    "from statistics import mean\n",
    "\n",
    "average_closing = {}\n",
    "for k,v in prices_columns.items():\n",
    "    average_closing[k] = mean(v[\"close\"])"
   ]
  },
  {
   "cell_type": "code",
   "execution_count": null,
   "metadata": {
    "collapsed": true
   },
   "outputs": [],
   "source": [
    "closing_tuples = [(k,v) for k,v in average_closing.items()]\n",
    "sorted(closing_tuples, key=lambda x:x[1])"
   ]
  },
  {
   "cell_type": "code",
   "execution_count": null,
   "metadata": {
    "collapsed": true
   },
   "outputs": [],
   "source": []
  }
 ],
 "metadata": {
  "kernelspec": {
   "display_name": "Python 3",
   "language": "python",
   "name": "python3"
  },
  "language_info": {
   "codemirror_mode": {
    "name": "ipython",
    "version": 3
   },
   "file_extension": ".py",
   "mimetype": "text/x-python",
   "name": "python",
   "nbconvert_exporter": "python",
   "pygments_lexer": "ipython3",
   "version": "3.4.3"
  }
 },
 "nbformat": 4,
 "nbformat_minor": 0
}
